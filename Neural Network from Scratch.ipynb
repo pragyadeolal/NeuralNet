{
 "cells": [
  {
   "cell_type": "markdown",
   "metadata": {},
   "source": [
    "## Implementing Neural Network from Scratch using Numpy"
   ]
  },
  {
   "cell_type": "code",
   "execution_count": 25,
   "metadata": {},
   "outputs": [],
   "source": [
    "# Creating data set\n",
    " \n",
    "# A\n",
    "a =[0, 0, 1, 1, 0, 0,\n",
    "   0, 1, 0, 0, 1, 0,\n",
    "   1, 1, 1, 1, 1, 1,\n",
    "   1, 0, 0, 0, 0, 1,\n",
    "   1, 0, 0, 0, 0, 1]\n",
    "# B\n",
    "b =[0, 1, 1, 1, 1, 0,\n",
    "   0, 1, 0, 0, 1, 0,\n",
    "   0, 1, 1, 1, 1, 0,\n",
    "   0, 1, 0, 0, 1, 0,\n",
    "   0, 1, 1, 1, 1, 0]\n",
    "# C\n",
    "c =[0, 1, 1, 1, 1, 0,\n",
    "   0, 1, 0, 0, 0, 0,\n",
    "   0, 1, 0, 0, 0, 0,\n",
    "   0, 1, 0, 0, 0, 0,\n",
    "   0, 1, 1, 1, 1, 0]\n",
    " \n",
    "# Creating labels\n",
    "y =[[1, 0, 0],\n",
    "   [0, 1, 0],\n",
    "   [0, 0, 1]]"
   ]
  },
  {
   "cell_type": "code",
   "execution_count": 26,
   "metadata": {},
   "outputs": [
    {
     "data": {
      "image/png": "[encoded data removed]",
      "text/plain": [
       "<Figure size 432x288 with 1 Axes>"
      ]
     },
     "metadata": {
      "needs_background": "light"
     },
     "output_type": "display_data"
    }
   ],
   "source": [
    "import numpy as np\n",
    "import matplotlib.pyplot as plt\n",
    "\n",
    "plt.imshow(np.array(a).reshape(5, 6))\n",
    "plt.show()"
   ]
  },
  {
   "cell_type": "code",
   "execution_count": 27,
   "metadata": {},
   "outputs": [],
   "source": [
    "x =[np.array(a).reshape(1, 30), np.array(b).reshape(1, 30),\n",
    "                                np.array(c).reshape(1, 30)]"
   ]
  },
  {
   "cell_type": "code",
   "execution_count": 28,
   "metadata": {},
   "outputs": [],
   "source": [
    "y = np.array(y)"
   ]
  },
  {
   "cell_type": "code",
   "execution_count": 29,
   "metadata": {},
   "outputs": [
    {
     "name": "stdout",
     "output_type": "stream",
     "text": [
      "[array([[0, 0, 1, 1, 0, 0, 0, 1, 0, 0, 1, 0, 1, 1, 1, 1, 1, 1, 1, 0, 0, 0,\n",
      "        0, 1, 1, 0, 0, 0, 0, 1]]), array([[0, 1, 1, 1, 1, 0, 0, 1, 0, 0, 1, 0, 0, 1, 1, 1, 1, 0, 0, 1, 0, 0,\n",
      "        1, 0, 0, 1, 1, 1, 1, 0]]), array([[0, 1, 1, 1, 1, 0, 0, 1, 0, 0, 0, 0, 0, 1, 0, 0, 0, 0, 0, 1, 0, 0,\n",
      "        0, 0, 0, 1, 1, 1, 1, 0]])] \n",
      "\n",
      " [[1 0 0]\n",
      " [0 1 0]\n",
      " [0 0 1]]\n"
     ]
    }
   ],
   "source": [
    "print(x, \"\\n\\n\", y)"
   ]
  },
  {
   "cell_type": "code",
   "execution_count": 30,
   "metadata": {},
   "outputs": [],
   "source": [
    "# activation function\n",
    " \n",
    "def sigmoid(x):\n",
    "    return(1/(1 + np.exp(-x)))"
   ]
  },
  {
   "cell_type": "code",
   "execution_count": 31,
   "metadata": {},
   "outputs": [],
   "source": [
    "def f_forward(x, w1, w2):\n",
    "    # hidden\n",
    "    z1 = x.dot(w1)\n",
    "    a1 = sigmoid(z1)\n",
    "     \n",
    "    # Output layer\n",
    "    z2 = a1.dot(w2)\n",
    "    a2 = sigmoid(z2)\n",
    "    return(a2)"
   ]
  },
  {
   "cell_type": "code",
   "execution_count": 32,
   "metadata": {},
   "outputs": [],
   "source": [
    "def generate_wt(x, y):\n",
    "    l =[]\n",
    "    for i in range(x * y):\n",
    "        l.append(np.random.randn())\n",
    "    return(np.array(l).reshape(x, y))"
   ]
  },
  {
   "cell_type": "code",
   "execution_count": 33,
   "metadata": {},
   "outputs": [],
   "source": [
    "def loss(out, Y):\n",
    "    s =(np.square(out-Y))\n",
    "    s = np.sum(s)/len(y)\n",
    "    return(s)"
   ]
  },
  {
   "cell_type": "code",
   "execution_count": 34,
   "metadata": {},
   "outputs": [],
   "source": [
    "def back_prop(x, y, w1, w2, alpha):\n",
    "     \n",
    "    # hidden layer\n",
    "    z1 = x.dot(w1)\n",
    "    a1 = sigmoid(z1)\n",
    "     \n",
    "    # Output layer\n",
    "    z2 = a1.dot(w2)\n",
    "    a2 = sigmoid(z2)\n",
    " \n",
    "    d2 =(a2-y)\n",
    "    d1 = np.multiply((w2.dot((d2.transpose()))).transpose(),\n",
    "                                   (np.multiply(a1, 1-a1)))\n",
    " \n",
    "    \n",
    "    w1_adj = x.transpose().dot(d1)\n",
    "    w2_adj = a1.transpose().dot(d2)\n",
    "     \n",
    "    \n",
    "    w1 = w1-(alpha*(w1_adj))\n",
    "    w2 = w2-(alpha*(w2_adj))\n",
    "     \n",
    "    return(w1, w2)"
   ]
  },
  {
   "cell_type": "code",
   "execution_count": 35,
   "metadata": {},
   "outputs": [],
   "source": [
    " def train(x, Y, w1, w2, alpha = 0.01, epoch = 10):\n",
    "    acc =[]\n",
    "    losss =[]\n",
    "    for j in range(epoch):\n",
    "        l =[]\n",
    "        for i in range(len(x)):\n",
    "            out = f_forward(x[i], w1, w2)\n",
    "            l.append((loss(out, Y[i])))\n",
    "            w1, w2 = back_prop(x[i], y[i], w1, w2, alpha)\n",
    "        print(\"epochs:\", j + 1, \"======== acc:\", (1-(sum(l)/len(x)))*100)  \n",
    "        acc.append((1-(sum(l)/len(x)))*100)\n",
    "        losss.append(sum(l)/len(x))\n",
    "    return(acc, losss, w1, w2)"
   ]
  },
  {
   "cell_type": "code",
   "execution_count": 36,
   "metadata": {},
   "outputs": [],
   "source": [
    "def predict(x, w1, w2):\n",
    "    Out = f_forward(x, w1, w2)\n",
    "    maxm = 0\n",
    "    k = 0\n",
    "    for i in range(len(Out[0])):\n",
    "        if(maxm<Out[0][i]):\n",
    "            maxm = Out[0][i]\n",
    "            k = i\n",
    "    if(k == 0):\n",
    "        print(\"Image is of letter A.\")\n",
    "    elif(k == 1):\n",
    "        print(\"Image is of letter B.\")\n",
    "    else:\n",
    "        print(\"Image is of letter C.\")\n",
    "    plt.imshow(x.reshape(5, 6))\n",
    "    plt.show()   "
   ]
  },
  {
   "cell_type": "code",
   "execution_count": 37,
   "metadata": {},
   "outputs": [
    {
     "name": "stdout",
     "output_type": "stream",
     "text": [
      "[[-0.32717633 -1.01631585  0.73021961 -0.88041824 -0.40048966]\n",
      " [ 0.74702596 -1.39567568  1.72183479  1.17390391 -0.44685638]\n",
      " [ 1.0310426  -0.93851251  0.9071271  -0.02855642  0.46350999]\n",
      " [ 0.62661499  0.57397472  0.56458431 -0.16004263  0.40512271]\n",
      " [-0.86929932  0.86733307 -0.65917236  1.91274317 -1.60515568]\n",
      " [ 0.36831838 -0.53817485 -2.58242348 -0.34680671 -0.60157904]\n",
      " [ 1.05153541 -1.53501758  1.53103363 -0.70854969 -0.5644551 ]\n",
      " [-0.95391944 -0.22140753  0.65100135  0.21771767 -0.96996957]\n",
      " [ 1.63035241 -1.90914248  0.05901584 -0.97074743 -2.41696251]\n",
      " [ 0.06816519  0.31021175 -0.27756398 -1.94653007 -2.29431916]\n",
      " [-1.65150746 -0.09919739  0.77584113  1.15531451  1.18183158]\n",
      " [ 0.17633023  1.93347382 -0.10977552 -0.59254119 -1.3636596 ]\n",
      " [ 2.02610627 -0.08005074 -1.01053434 -1.15696728 -1.13075032]\n",
      " [-0.84866672  0.21986899  1.30222985 -0.9823303  -0.48062843]\n",
      " [-1.43201976  0.77153338  1.14055773  1.12195702  0.31846304]\n",
      " [-0.32809939  0.54950183  0.75129472 -1.51793117  1.19553815]\n",
      " [ 1.12569894 -1.10990631  1.2839375   0.29134883 -0.94173898]\n",
      " [-0.28693124  1.00566616  0.13555116  1.09346569 -1.14976456]\n",
      " [ 2.370719    0.92432609 -0.41392528 -0.36458034  1.06105619]\n",
      " [-0.92567673  1.31366232  0.88272379  0.89165351 -0.32706746]\n",
      " [-0.8595434  -1.73038153  0.34417643 -0.02358092  0.50934022]\n",
      " [ 1.93646707 -0.45273027  1.41988081 -0.76273369  1.76210672]\n",
      " [-0.11597497  0.70921047  1.41029187 -1.04494444 -1.03841707]\n",
      " [ 1.19096438 -0.41812835  0.52814148 -1.00775414 -0.99444996]\n",
      " [ 1.39075308 -0.09358659 -0.17484146  0.46444552 -0.27123867]\n",
      " [-0.02385773  0.05160087 -1.02257951  1.11260288 -0.56109683]\n",
      " [ 0.09787495  0.19235203 -0.61693123  0.18864662  0.77097064]\n",
      " [ 0.68135899 -0.42065406  0.79377169 -1.07826392 -0.33910996]\n",
      " [ 0.51665485 -1.73739656  0.13768407  0.12657021  0.90301815]\n",
      " [ 0.65791381  0.8096136   0.48293569  0.10133926  0.60639077]] \n",
      " [[ 1.09940629 -0.30915322 -0.77391037]\n",
      " [-0.96289171 -0.76860544 -0.43401682]\n",
      " [-0.55110192 -0.38339173  0.07530094]\n",
      " [-1.20711278  0.10952601  1.27575781]\n",
      " [ 1.35193408  0.03762611  0.77597128]]\n"
     ]
    }
   ],
   "source": [
    "w1 = generate_wt(30,5)\n",
    "w2 = generate_wt(5,3)\n",
    "print(w1, \"\\n\", w2)"
   ]
  },
  {
   "cell_type": "code",
   "execution_count": 38,
   "metadata": {},
   "outputs": [
    {
     "name": "stdout",
     "output_type": "stream",
     "text": [
      "epochs: 1 ======== acc: 79.26648036311093\n",
      "epochs: 2 ======== acc: 80.73641484529868\n",
      "epochs: 3 ======== acc: 81.80515395688697\n",
      "epochs: 4 ======== acc: 82.63826619607681\n",
      "epochs: 5 ======== acc: 83.31854051088065\n",
      "epochs: 6 ======== acc: 83.88957375033672\n",
      "epochs: 7 ======== acc: 84.37663742750891\n",
      "epochs: 8 ======== acc: 84.79601701866206\n",
      "epochs: 9 ======== acc: 85.15930641315039\n",
      "epochs: 10 ======== acc: 85.47543833994285\n",
      "epochs: 11 ======== acc: 85.7516652655216\n",
      "epochs: 12 ======== acc: 85.99404917510932\n",
      "epochs: 13 ======== acc: 86.20772396337496\n",
      "epochs: 14 ======== acc: 86.39705453449533\n",
      "epochs: 15 ======== acc: 86.56574939470693\n",
      "epochs: 16 ======== acc: 86.71695143170044\n",
      "epochs: 17 ======== acc: 86.85331677944477\n",
      "epochs: 18 ======== acc: 86.97708523995308\n",
      "epochs: 19 ======== acc: 87.0901432336466\n",
      "epochs: 20 ======== acc: 87.1940794951601\n",
      "epochs: 21 ======== acc: 87.2902336749939\n",
      "epochs: 22 ======== acc: 87.37973816894846\n",
      "epochs: 23 ======== acc: 87.46355367442781\n",
      "epochs: 24 ======== acc: 87.5424990952266\n",
      "epochs: 25 ======== acc: 87.6172764727846\n",
      "epochs: 26 ======== acc: 87.68849162321159\n",
      "epochs: 27 ======== acc: 87.75667112259305\n",
      "epochs: 28 ======== acc: 87.8222762238864\n",
      "epochs: 29 ======== acc: 87.8857142192569\n",
      "epochs: 30 ======== acc: 87.94734769036803\n",
      "epochs: 31 ======== acc: 88.00750202117985\n",
      "epochs: 32 ======== acc: 88.06647148611401\n",
      "epochs: 33 ======== acc: 88.12452417230664\n",
      "epochs: 34 ======== acc: 88.1819059483382\n",
      "epochs: 35 ======== acc: 88.23884365294225\n",
      "epochs: 36 ======== acc: 88.29554764506244\n",
      "epochs: 37 ======== acc: 88.3522138304168\n",
      "epochs: 38 ======== acc: 88.40902525857996\n",
      "epochs: 39 ======== acc: 88.46615336768208\n",
      "epochs: 40 ======== acc: 88.52375894039064\n",
      "epochs: 41 ======== acc: 88.58199282421766\n",
      "epochs: 42 ======== acc: 88.64099646079136\n",
      "epochs: 43 ======== acc: 88.70090226204871\n",
      "epochs: 44 ======== acc: 88.7618338659259\n",
      "epochs: 45 ======== acc: 88.82390629969774\n",
      "epochs: 46 ======== acc: 88.88722607538074\n",
      "epochs: 47 ======== acc: 88.9518912383491\n",
      "epochs: 48 ======== acc: 89.01799138737952\n",
      "epochs: 49 ======== acc: 89.08560768163474\n",
      "epochs: 50 ======== acc: 89.15481284756864\n",
      "epochs: 51 ======== acc: 89.22567119636588\n",
      "epochs: 52 ======== acc: 89.29823866032382\n",
      "epochs: 53 ======== acc: 89.37256285456235\n",
      "epochs: 54 ======== acc: 89.44868316863543\n",
      "epochs: 55 ======== acc: 89.52663089103713\n",
      "epochs: 56 ======== acc: 89.6064293682598\n",
      "epochs: 57 ======== acc: 89.68809419897462\n",
      "epochs: 58 ======== acc: 89.77163346305203\n",
      "epochs: 59 ======== acc: 89.85704798449804\n",
      "epochs: 60 ======== acc: 89.94433162691747\n",
      "epochs: 61 ======== acc: 90.03347161978515\n",
      "epochs: 62 ======== acc: 90.12444891356874\n",
      "epochs: 63 ======== acc: 90.21723856155899\n",
      "epochs: 64 ======== acc: 90.31181012608772\n",
      "epochs: 65 ======== acc: 90.40812810662023\n",
      "epochs: 66 ======== acc: 90.50615238697286\n",
      "epochs: 67 ======== acc: 90.60583869861422\n",
      "epochs: 68 ======== acc: 90.70713909665035\n",
      "epochs: 69 ======== acc: 90.81000244466895\n",
      "epochs: 70 ======== acc: 90.91437490412534\n",
      "epochs: 71 ======== acc: 91.02020042339771\n",
      "epochs: 72 ======== acc: 91.12742122102401\n",
      "epochs: 73 ======== acc: 91.23597825696278\n",
      "epochs: 74 ======== acc: 91.34581168499642\n",
      "epochs: 75 ======== acc: 91.45686127862194\n",
      "epochs: 76 ======== acc: 91.56906682195543\n",
      "epochs: 77 ======== acc: 91.68236845632111\n",
      "epochs: 78 ======== acc: 91.79670697232372\n",
      "epochs: 79 ======== acc: 91.91202403634492\n",
      "epochs: 80 ======== acc: 92.02826233961844\n",
      "epochs: 81 ======== acc: 92.14536565740649\n",
      "epochs: 82 ======== acc: 92.26327880545065\n",
      "epochs: 83 ======== acc: 92.38194748097457\n",
      "epochs: 84 ======== acc: 92.5013179763051\n",
      "epochs: 85 ======== acc: 92.62133675494152\n",
      "epochs: 86 ======== acc: 92.74194988298035\n",
      "epochs: 87 ======== acc: 92.86310231356948\n",
      "epochs: 88 ======== acc: 92.98473702888843\n",
      "epochs: 89 ======== acc: 93.10679405332014\n",
      "epochs: 90 ======== acc: 93.2292093631152\n",
      "epochs: 91 ======== acc: 93.35191373176689\n",
      "epochs: 92 ======== acc: 93.47483156588432\n",
      "epochs: 93 ======== acc: 93.59787980234971\n",
      "epochs: 94 ======== acc: 93.72096695207523\n",
      "epochs: 95 ======== acc: 93.84399238617883\n",
      "epochs: 96 ======== acc: 93.96684596387394\n",
      "epochs: 97 ======== acc: 94.08940809479131\n",
      "epochs: 98 ======== acc: 94.21155030946832\n",
      "epochs: 99 ======== acc: 94.33313637946912\n",
      "epochs: 100 ======== acc: 94.4540239844335\n"
     ]
    }
   ],
   "source": [
    "acc, loss, w1, w2 = train(x,y,w1,w2,0.1,100)"
   ]
  },
  {
   "cell_type": "code",
   "execution_count": 39,
   "metadata": {},
   "outputs": [
    {
     "data": {
      "image/png": "[encoded data removed]",
      "text/plain": [
       "<Figure size 432x288 with 1 Axes>"
      ]
     },
     "metadata": {
      "needs_background": "light"
     },
     "output_type": "display_data"
    }
   ],
   "source": [
    "import matplotlib.pyplot as plt1\n",
    "\n",
    "#plotting accuracy\n",
    "plt1.plot(acc)\n",
    "plt.ylabel('Accuracy')\n",
    "plt.xlabel(\"Epochs:\")\n",
    "plt1.show()"
   ]
  },
  {
   "cell_type": "code",
   "execution_count": 40,
   "metadata": {},
   "outputs": [
    {
     "data": {
      "image/png": "[encoded data removed]",
      "text/plain": [
       "<Figure size 432x288 with 1 Axes>"
      ]
     },
     "metadata": {
      "needs_background": "light"
     },
     "output_type": "display_data"
    }
   ],
   "source": [
    "#plot loss\n",
    "plt1.plot(losss)\n",
    "plt.ylabel('Loss')\n",
    "plt.xlabel(\"Epochs:\")\n",
    "plt1.show()"
   ]
  },
  {
   "cell_type": "code",
   "execution_count": 41,
   "metadata": {},
   "outputs": [
    {
     "name": "stdout",
     "output_type": "stream",
     "text": [
      "[[-0.32717633 -1.01631585  0.73021961 -0.88041824 -0.40048966]\n",
      " [ 0.63738689 -1.46866926  1.72018647  1.26581664 -0.71957443]\n",
      " [ 0.96632315 -0.98046981  0.90545928 -0.1633346   0.55665773]\n",
      " [ 0.56189554  0.53201741  0.56291649 -0.2948208   0.49827045]\n",
      " [-0.97893839  0.7943395  -0.66082068  2.0046559  -1.87787373]\n",
      " [ 0.36831838 -0.53817485 -2.58242348 -0.34680671 -0.60157904]\n",
      " [ 1.05153541 -1.53501758  1.53103363 -0.70854969 -0.5644551 ]\n",
      " [-1.01863888 -0.26336484  0.64933353  0.0829395  -0.87682183]\n",
      " [ 1.63035241 -1.90914248  0.05901584 -0.97074743 -2.41696251]\n",
      " [ 0.06816519  0.31021175 -0.27756398 -1.94653007 -2.29431916]\n",
      " [-1.66371558  0.60005861  0.77582574  0.83683452  1.25150631]\n",
      " [ 0.17633023  1.93347382 -0.10977552 -0.59254119 -1.3636596 ]\n",
      " [ 2.07102589 -0.04901447 -1.01055384 -1.38365818 -0.76488453]\n",
      " [-0.91338617  0.17791169  1.30056203 -1.11710847 -0.38748069]\n",
      " [-1.44422788  1.47078939  1.14054234  0.80347703  0.38813776]\n",
      " [-0.34030751  1.24875784  0.75127933 -1.83641116  1.26521288]\n",
      " [ 1.11349082 -0.4106503   1.28392211 -0.02713116 -0.87206426]\n",
      " [-0.24201163  1.03670243  0.13553166  0.86677479 -0.78389877]\n",
      " [ 2.41563861  0.95536236 -0.41394478 -0.59127125  1.42692198]\n",
      " [-1.03531579  1.24066875  0.88107547  0.98356623 -0.59978551]\n",
      " [-0.8595434  -1.73038153  0.34417643 -0.02358092  0.50934022]\n",
      " [ 1.93646707 -0.45273027  1.41988081 -0.76273369  1.76210672]\n",
      " [-0.1731027   1.3774302   1.41029598 -1.13673353 -1.33460813]\n",
      " [ 1.235884   -0.38709207  0.52812198 -1.23444504 -0.62858417]\n",
      " [ 1.4356727  -0.06255032 -0.17486096  0.23775461  0.09462712]\n",
      " [-0.13349679 -0.02139271 -1.02422783  1.20451561 -0.83381488]\n",
      " [-0.01176411  0.11935845 -0.61857954  0.28055934  0.49825259]\n",
      " [ 0.57171992 -0.49364763  0.79212337 -0.9863512  -0.61182802]\n",
      " [ 0.40701579 -1.81039013  0.13603575  0.21848293  0.6303001 ]\n",
      " [ 0.70283343  0.84064987  0.48291619 -0.12535164  0.97225656]] \n",
      " [[ 2.25521474 -2.03510908 -0.95256209]\n",
      " [-0.33933063  0.64015312 -2.6132955 ]\n",
      " [-0.82729301 -0.62031081 -0.38426507]\n",
      " [-2.65500016  0.54121213  1.79630323]\n",
      " [ 2.09925052 -0.46317599  0.09489493]]\n"
     ]
    }
   ],
   "source": [
    "print(w1, \"\\n\", w2)"
   ]
  },
  {
   "cell_type": "code",
   "execution_count": 43,
   "metadata": {},
   "outputs": [
    {
     "name": "stdout",
     "output_type": "stream",
     "text": [
      "Image is of letter A.\n"
     ]
    },
    {
     "data": {
      "image/png": "[encoded data removed]",
      "text/plain": [
       "<Figure size 432x288 with 1 Axes>"
      ]
     },
     "metadata": {
      "needs_background": "light"
     },
     "output_type": "display_data"
    }
   ],
   "source": [
    "predict(x[0], w1, w2)"
   ]
  },
  {
   "cell_type": "code",
   "execution_count": null,
   "metadata": {},
   "outputs": [],
   "source": []
  },
  {
   "cell_type": "code",
   "execution_count": null,
   "metadata": {},
   "outputs": [],
   "source": []
  },
  {
   "cell_type": "code",
   "execution_count": null,
   "metadata": {},
   "outputs": [],
   "source": []
  }
 ],
 "metadata": {
  "kernelspec": {
   "display_name": "Python 3",
   "language": "python",
   "name": "python3"
  },
  "language_info": {
   "codemirror_mode": {
    "name": "ipython",
    "version": 3
   },
   "file_extension": ".py",
   "mimetype": "text/x-python",
   "name": "python",
   "nbconvert_exporter": "python",
   "pygments_lexer": "ipython3",
   "version": "3.8.5"
  }
 },
 "nbformat": 4,
 "nbformat_minor": 4
}
